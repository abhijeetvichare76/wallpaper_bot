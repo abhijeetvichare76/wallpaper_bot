{
 "cells": [
  {
   "cell_type": "code",
   "execution_count": 1,
   "metadata": {
    "ExecuteTime": {
     "end_time": "2020-03-01T17:39:43.064699Z",
     "start_time": "2020-03-01T17:39:42.817791Z"
    }
   },
   "outputs": [],
   "source": [
    "from selenium import webdriver\n",
    "from selenium.webdriver.common.keys import Keys\n",
    "from selenium.webdriver.common.action_chains import ActionChains\n",
    "from selenium.webdriver.support.ui import WebDriverWait\n",
    "import time\n",
    "import os\n",
    "from tqdm import trange"
   ]
  },
  {
   "cell_type": "code",
   "execution_count": 2,
   "metadata": {
    "ExecuteTime": {
     "end_time": "2020-03-01T17:39:43.096694Z",
     "start_time": "2020-03-01T17:39:43.067701Z"
    }
   },
   "outputs": [],
   "source": [
    "\n",
    "def search_results(search):\n",
    "#     Search the keyword on the website and press enter\n",
    "    driver.find_element_by_xpath('//*[@id=\"search\"]').clear()\n",
    "    driver.find_element_by_xpath('//*[@id=\"search\"]').send_keys(search)\n",
    "    driver.find_element_by_xpath('//*[@id=\"search\"]').send_keys(Keys.ENTER)\n",
    "\n",
    "def get_links(search,pages = 1000):\n",
    "#   get_links does the search query and collects all the links to the wallpapers till the end of the pages.\n",
    "    driver.get('https://wall.alphacoders.com')\n",
    "    search_results(search)\n",
    "    time.sleep(2)\n",
    "    url = driver.current_url\n",
    "\n",
    "    wait = WebDriverWait(driver,5)\n",
    "\n",
    "    links = []\n",
    "    prev_len= new_len = 0\n",
    "    i=1\n",
    "    flag = 1\n",
    "    while((flag) & (i<=pages)):\n",
    "        try:\n",
    "#             Get all the hrefs from the page\n",
    "            elems = driver.find_elements_by_xpath(\"//a[@href]\")\n",
    "            for elem in elems:\n",
    "                link = elem.get_attribute(\"href\")\n",
    "#                 filter the links that specify a certain format to get the wallpaper links\n",
    "                if ('i=' in link) & ('//wall.alphacoders.com' in link):\n",
    "                    links.append(link)\n",
    "            new_len = len(set(links))\n",
    "#             If no new links were found break the loop \n",
    "            if new_len==prev_len:\n",
    "                flag = 0\n",
    "            prev_len = len(set(links))\n",
    "            i+=1\n",
    "            driver.get(url+'&page='+str(i))\n",
    "            time.sleep(5)\n",
    "        except:\n",
    "            print('Total Pages Found %i' %i)\n",
    "            break\n",
    "    return links\n",
    "\n",
    "def download_links(links):\n",
    "#     Once all links are scraped, download all these links in their original sizes.\n",
    "    links = list(set(links))\n",
    "    error_log = []\n",
    "    for i in trange(len(links)):\n",
    "        try:\n",
    "            driver.get(links[i])\n",
    "            time.sleep(3)\n",
    "            wait.until(lambda driver: driver.find_element_by_xpath('//*[@id=\"page_container\"]/div[7]/div[1]/span'))\n",
    "            element = driver.find_element_by_xpath('//*[@id=\"page_container\"]/div[7]/div[1]/span')\n",
    "            driver.execute_script(\"arguments[0].scrollIntoView();\", element)\n",
    "            element.click()\n",
    "            time.sleep(3)\n",
    "        except:\n",
    "            error_log.append(links[i])\n",
    "    driver.quit()"
   ]
  },
  {
   "cell_type": "code",
   "execution_count": 3,
   "metadata": {
    "ExecuteTime": {
     "end_time": "2020-03-01T17:39:43.222583Z",
     "start_time": "2020-03-01T17:39:43.100683Z"
    }
   },
   "outputs": [],
   "source": [
    "searches = [\n",
    "    'Rihanna','Ana De Armas',\n",
    "    'Daniel Craig','Robert Downey Jr','Scarlett johansson','Eminem','Peaky Blinders','Sex Education','Pokemon','Hrithik Roshan','Jennifer Lawrence','Margot Robbie','Natalie Portman','Emma Stone','Jennifer Aniston','Emma Watson','Julia Roberts','Anne Hathaway','Sandra Bullock','Amy Adams','Megan Fox','Julianne Moore','Gal Gadot','Alexandra Daddario','Brie Larson','Halle Berry','Emilia Clarke'\n",
    "]\n",
    "    "
   ]
  },
  {
   "cell_type": "code",
   "execution_count": null,
   "metadata": {
    "ExecuteTime": {
     "start_time": "2020-03-01T17:39:42.836Z"
    },
    "scrolled": true
   },
   "outputs": [
    {
     "name": "stdout",
     "output_type": "stream",
     "text": [
      "Downloading Rihanna\n",
      "Folder already exists !!!\n"
     ]
    },
    {
     "name": "stderr",
     "output_type": "stream",
     "text": [
      "C:\\ProgramData\\Anaconda3\\lib\\site-packages\\ipykernel_launcher.py:13: DeprecationWarning: use options instead of chrome_options\n",
      "  del sys.path[0]\n",
      "0it [00:00, ?it/s]\n"
     ]
    },
    {
     "name": "stdout",
     "output_type": "stream",
     "text": [
      "Downloading Ana De Armas\n",
      "Folder already exists !!!\n"
     ]
    },
    {
     "name": "stderr",
     "output_type": "stream",
     "text": [
      "100%|██████████████████████████████████████████████████████████████████████████████████| 60/60 [10:22<00:00,  8.17s/it]\n"
     ]
    },
    {
     "name": "stdout",
     "output_type": "stream",
     "text": [
      "Downloading Daniel Craig\n"
     ]
    },
    {
     "name": "stderr",
     "output_type": "stream",
     "text": [
      "100%|██████████████████████████████████████████████████████████████████████████████████| 94/94 [14:56<00:00,  8.94s/it]\n"
     ]
    },
    {
     "name": "stdout",
     "output_type": "stream",
     "text": [
      "Downloading Robert Downey Jr\n"
     ]
    }
   ],
   "source": [
    "\n",
    "for search in searches:\n",
    "    try:\n",
    "        print('Downloading %s' %search)\n",
    "        try:\n",
    "#             Create a folder to store all the downloads there\n",
    "            os.mkdir('C:/Users/abhij/Downloads/Wallpapers/'+search)\n",
    "        except:\n",
    "            print('Folder already exists !!!')\n",
    "        \n",
    "        chromeOptions = webdriver.ChromeOptions()\n",
    "#         Update the download directory of the driver\n",
    "        prefs = {\"download.default_directory\" : os.path.join(r\"C:\\Users\\abhij\\Downloads\\Wallpapers\" ,search)}\n",
    "        chromeOptions.add_experimental_option(\"prefs\",prefs)\n",
    "        chromedriver = 'C:/Users/abhij/Downloads/Programs/chromedriver.exe'\n",
    "        driver = webdriver.Chrome(executable_path=chromedriver, chrome_options=chromeOptions)\n",
    "        driver.maximize_window()\n",
    "        \n",
    "        links = get_links(search)\n",
    "        wait = WebDriverWait(driver,10)\n",
    "        download_links(links)\n",
    "    except:\n",
    "        time.sleep(50)\n",
    "        "
   ]
  },
  {
   "cell_type": "code",
   "execution_count": null,
   "metadata": {},
   "outputs": [],
   "source": []
  }
 ],
 "metadata": {
  "hide_input": false,
  "kernelspec": {
   "display_name": "Python 3",
   "language": "python",
   "name": "python3"
  },
  "language_info": {
   "codemirror_mode": {
    "name": "ipython",
    "version": 3
   },
   "file_extension": ".py",
   "mimetype": "text/x-python",
   "name": "python",
   "nbconvert_exporter": "python",
   "pygments_lexer": "ipython3",
   "version": "3.7.3"
  },
  "varInspector": {
   "cols": {
    "lenName": 16,
    "lenType": 16,
    "lenVar": 40
   },
   "kernels_config": {
    "python": {
     "delete_cmd_postfix": "",
     "delete_cmd_prefix": "del ",
     "library": "var_list.py",
     "varRefreshCmd": "print(var_dic_list())"
    },
    "r": {
     "delete_cmd_postfix": ") ",
     "delete_cmd_prefix": "rm(",
     "library": "var_list.r",
     "varRefreshCmd": "cat(var_dic_list()) "
    }
   },
   "types_to_exclude": [
    "module",
    "function",
    "builtin_function_or_method",
    "instance",
    "_Feature"
   ],
   "window_display": false
  }
 },
 "nbformat": 4,
 "nbformat_minor": 2
}
