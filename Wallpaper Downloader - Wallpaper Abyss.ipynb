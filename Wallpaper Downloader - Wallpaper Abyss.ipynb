{
 "cells": [
  {
   "cell_type": "code",
   "execution_count": 1,
   "metadata": {
    "ExecuteTime": {
     "end_time": "2020-03-01T17:39:43.064699Z",
     "start_time": "2020-03-01T17:39:42.817791Z"
    }
   },
   "outputs": [],
   "source": [
    "from selenium import webdriver\n",
    "from selenium.webdriver.common.keys import Keys\n",
    "from selenium.webdriver.common.action_chains import ActionChains\n",
    "from selenium.webdriver.support.ui import WebDriverWait\n",
    "import time\n",
    "import os\n",
    "from tqdm import trange"
   ]
  },
  {
   "cell_type": "code",
   "execution_count": 2,
   "metadata": {
    "ExecuteTime": {
     "end_time": "2020-03-01T17:39:43.096694Z",
     "start_time": "2020-03-01T17:39:43.067701Z"
    }
   },
   "outputs": [],
   "source": [
    "\n",
    "def search_results(search):\n",
    "#     Search the keyword on the website and press enter\n",
    "    driver.find_element_by_xpath('//*[@id=\"search\"]').clear()\n",
    "    driver.find_element_by_xpath('//*[@id=\"search\"]').send_keys(search)\n",
    "    driver.find_element_by_xpath('//*[@id=\"search\"]').send_keys(Keys.ENTER)\n",
    "\n",
    "def get_links(search,pages = 1000):\n",
    "#   get_links does the search query and collects all the links to the wallpapers till the end of the pages.\n",
    "    driver.get('https://wall.alphacoders.com')\n",
    "    search_results(search)\n",
    "    time.sleep(2)\n",
    "    url = driver.current_url\n",
    "\n",
    "    wait = WebDriverWait(driver,5)\n",
    "\n",
    "    links = []\n",
    "    prev_len= new_len = 0\n",
    "    i=1\n",
    "    flag = 1\n",
    "    while((flag) & (i<=pages)):\n",
    "        try:\n",
    "#             Get all the hrefs from the page\n",
    "            elems = driver.find_elements_by_xpath(\"//a[@href]\")\n",
    "            for elem in elems:\n",
    "                link = elem.get_attribute(\"href\")\n",
    "#                 filter the links that specify a certain format to get the wallpaper links\n",
    "                if ('i=' in link) & ('//wall.alphacoders.com' in link):\n",
    "                    links.append(link)\n",
    "            new_len = len(set(links))\n",
    "#             If no new links were found break the loop \n",
    "            if new_len==prev_len:\n",
    "                flag = 0\n",
    "            prev_len = len(set(links))\n",
    "            i+=1\n",
    "            driver.get(url+'&page='+str(i))\n",
    "            time.sleep(5)\n",
    "        except:\n",
    "            print('Total Pages Found %i' %i)\n",
    "            break\n",
    "    return links\n",
    "\n",
    "def download_links(links):\n",
    "#     Once all links are scraped, download all these links in their original sizes.\n",
    "    links = list(set(links))\n",
    "    error_log = []\n",
    "    for i in trange(len(links)):\n",
    "        try:\n",
    "            driver.get(links[i])\n",
    "            time.sleep(3)\n",
    "            wait.until(lambda driver: driver.find_element_by_xpath('//*[@id=\"page_container\"]/div[7]/div[1]/span'))\n",
    "            element = driver.find_element_by_xpath('//*[@id=\"page_container\"]/div[7]/div[1]/span')\n",
    "            driver.execute_script(\"arguments[0].scrollIntoView();\", element)\n",
    "            element.click()\n",
    "            time.sleep(3)\n",
    "        except:\n",
    "            error_log.append(links[i])\n",
    "    driver.quit()"
   ]
  },
  {
   "cell_type": "code",
   "execution_count": 3,
   "metadata": {
    "ExecuteTime": {
     "end_time": "2020-03-01T17:39:43.222583Z",
     "start_time": "2020-03-01T17:39:43.100683Z"
    }
   },
   "outputs": [],
   "source": [
    "######################## User inputs here #######################\n",
    "searches = [\n",
    "    'Peaky Blinders','Gal Gadot',\n",
    "]\n",
    "download_path = r\"C:\\Users\\abhij\\Downloads\\Wallpapers\"\n",
    "chromedriver = 'C:/Users/abhij/Downloads/Programs/chromedriver.exe'"
   ]
  },
  {
   "cell_type": "code",
   "execution_count": null,
   "metadata": {
    "ExecuteTime": {
     "start_time": "2020-03-01T17:39:42.836Z"
    },
    "scrolled": true
   },
   "outputs": [],
   "source": [
    "for search in searches:\n",
    "    try:\n",
    "        print('Downloading %s' %search)\n",
    "        try:\n",
    "#             Create a folder to store all the downloads there\n",
    "            os.mkdir(os.path.join(download_path ,search))\n",
    "        except:\n",
    "            print('Folder already exists !!!')\n",
    "        \n",
    "        chromeOptions = webdriver.ChromeOptions()\n",
    "#         Update the download directory of the driver\n",
    "        prefs = {\"download.default_directory\" : os.path.join(download_path ,search)}\n",
    "        chromeOptions.add_experimental_option(\"prefs\",prefs)\n",
    "        driver = webdriver.Chrome(executable_path=chromedriver, chrome_options=chromeOptions)\n",
    "        driver.maximize_window()\n",
    "#         Add pages argument below to limit the number of page searches\n",
    "        links = get_links(search)\n",
    "        wait = WebDriverWait(driver,10)\n",
    "        download_links(links)\n",
    "    except:\n",
    "        time.sleep(50)\n",
    "        "
   ]
  },
  {
   "cell_type": "code",
   "execution_count": null,
   "metadata": {},
   "outputs": [],
   "source": []
  }
 ],
 "metadata": {
  "hide_input": false,
  "kernelspec": {
   "display_name": "Python 3",
   "language": "python",
   "name": "python3"
  },
  "language_info": {
   "codemirror_mode": {
    "name": "ipython",
    "version": 3
   },
   "file_extension": ".py",
   "mimetype": "text/x-python",
   "name": "python",
   "nbconvert_exporter": "python",
   "pygments_lexer": "ipython3",
   "version": "3.7.3"
  },
  "varInspector": {
   "cols": {
    "lenName": 16,
    "lenType": 16,
    "lenVar": 40
   },
   "kernels_config": {
    "python": {
     "delete_cmd_postfix": "",
     "delete_cmd_prefix": "del ",
     "library": "var_list.py",
     "varRefreshCmd": "print(var_dic_list())"
    },
    "r": {
     "delete_cmd_postfix": ") ",
     "delete_cmd_prefix": "rm(",
     "library": "var_list.r",
     "varRefreshCmd": "cat(var_dic_list()) "
    }
   },
   "types_to_exclude": [
    "module",
    "function",
    "builtin_function_or_method",
    "instance",
    "_Feature"
   ],
   "window_display": false
  }
 },
 "nbformat": 4,
 "nbformat_minor": 2
}
